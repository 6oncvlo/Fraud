{
 "cells": [
  {
   "cell_type": "code",
   "execution_count": null,
   "id": "2638d95b",
   "metadata": {},
   "outputs": [],
   "source": [
    "import sys\n",
    "import os\n",
    "\n",
    "sys.path.append(os.path.abspath('..'))\n",
    "\n",
    "import yaml\n",
    "import pandas as pd\n",
    "from sklearn.model_selection import train_test_split\n",
    "from sklearn.dummy import DummyClassifier\n",
    "from sklearn.ensemble import VotingClassifier\n",
    "\n",
    "from src.data.prepare_data import prepare_data\n",
    "from src.data.utils import resample_data\n",
    "from src.models.classification import Classification\n",
    "from src.models.evaluation import Evaluation\n",
    "\n",
    "import warnings\n",
    "\n",
    "warnings.filterwarnings('ignore')"
   ]
  },
  {
   "cell_type": "code",
   "execution_count": null,
   "id": "778c7b40",
   "metadata": {},
   "outputs": [],
   "source": [
    "# read config\n",
    "with open('../'+'config.yml', 'r') as file:\n",
    "    config=yaml.load(file, Loader= yaml.SafeLoader)\n",
    "del file"
   ]
  },
  {
   "cell_type": "code",
   "execution_count": null,
   "id": "8259637a",
   "metadata": {},
   "outputs": [],
   "source": [
    "# load and prepare data\n",
    "df = pd.read_csv('../'+config['data_loader']['path'])\n",
    "df = prepare_data(df=df)\n",
    "display(df.head())"
   ]
  },
  {
   "cell_type": "code",
   "execution_count": null,
   "id": "c4212a94",
   "metadata": {},
   "outputs": [],
   "source": [
    "# split dataset into train and test sets\n",
    "X_train, X_test, y_train, y_test = train_test_split(\n",
    "    df.iloc[:,:-1], df['target']\n",
    "    , test_size=config['train_test_split']['test_size']\n",
    "    , random_state=123\n",
    "    , shuffle=True\n",
    "    , stratify=df['target']\n",
    "    )\n",
    "\n",
    "# check class distributions\n",
    "print(\n",
    "    y_train.value_counts(normalize=True)\n",
    "    , y_test.value_counts(normalize=True)\n",
    "    )"
   ]
  },
  {
   "cell_type": "code",
   "execution_count": null,
   "id": "b8d6f528",
   "metadata": {},
   "outputs": [],
   "source": [
    "# build ensemble\n",
    "clf = VotingClassifier(\n",
    "    estimators = [\n",
    "        ('DummyClassifier', DummyClassifier())\n",
    "        , ('LogisticRegression', Classification(algorithm='LogisticRegression').model)\n",
    "        , ('DecisionTree', Classification(algorithm='DecisionTreeClassifier').model)\n",
    "    ]\n",
    "    , voting='soft'\n",
    ")\n",
    "clf.fit(X_train, y_train)"
   ]
  },
  {
   "cell_type": "code",
   "execution_count": null,
   "id": "b356db92",
   "metadata": {},
   "outputs": [],
   "source": [
    "# check individual and overall accuracy\n",
    "for name, model in clf.named_estimators_.items():\n",
    "    print(f'{name}: {model.score(X_test, y_test)}')\n",
    "\n",
    "clf.score(X_test, y_test)"
   ]
  }
 ],
 "metadata": {
  "kernelspec": {
   "display_name": ".venv",
   "language": "python",
   "name": "python3"
  },
  "language_info": {
   "codemirror_mode": {
    "name": "ipython",
    "version": 3
   },
   "file_extension": ".py",
   "mimetype": "text/x-python",
   "name": "python",
   "nbconvert_exporter": "python",
   "pygments_lexer": "ipython3",
   "version": "3.11.9"
  }
 },
 "nbformat": 4,
 "nbformat_minor": 5
}
