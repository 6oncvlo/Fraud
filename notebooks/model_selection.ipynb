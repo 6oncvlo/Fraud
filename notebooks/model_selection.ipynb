{
 "cells": [
  {
   "cell_type": "code",
   "execution_count": 1,
   "metadata": {},
   "outputs": [],
   "source": [
    "import sys\n",
    "import os\n",
    "sys.path.append(os.path.abspath('..'))\n",
    "\n",
    "import yaml\n",
    "import numpy as np\n",
    "import pandas as pd\n",
    "from sklearn.model_selection import train_test_split\n",
    "import optuna\n",
    "\n",
    "from src.data.prepare_data import prepare_data\n",
    "from src.models.utils import train_splits, imbalanced_sampling, set_global_seed\n",
    "from src.models.tuner import HyperParamSearch\n",
    "from src.models.model import Classifier\n",
    "from src.models.evaluation import Evaluation"
   ]
  },
  {
   "cell_type": "code",
   "execution_count": 2,
   "metadata": {},
   "outputs": [],
   "source": [
    "# read config\n",
    "with open(\"../config.yml\", \"r\") as file:\n",
    "    config=yaml.load(file, Loader= yaml.SafeLoader)\n",
    "del file\n",
    "\n",
    "# ensure reproducibility\n",
    "set_global_seed(seed=config[\"general\"][\"seed\"])"
   ]
  },
  {
   "cell_type": "code",
   "execution_count": 3,
   "metadata": {},
   "outputs": [
    {
     "data": {
      "text/html": [
       "<div>\n",
       "<style scoped>\n",
       "    .dataframe tbody tr th:only-of-type {\n",
       "        vertical-align: middle;\n",
       "    }\n",
       "\n",
       "    .dataframe tbody tr th {\n",
       "        vertical-align: top;\n",
       "    }\n",
       "\n",
       "    .dataframe thead th {\n",
       "        text-align: right;\n",
       "    }\n",
       "</style>\n",
       "<table border=\"1\" class=\"dataframe\">\n",
       "  <thead>\n",
       "    <tr style=\"text-align: right;\">\n",
       "      <th></th>\n",
       "      <th>time</th>\n",
       "      <th>v1</th>\n",
       "      <th>v2</th>\n",
       "      <th>v3</th>\n",
       "      <th>v4</th>\n",
       "      <th>v5</th>\n",
       "      <th>v6</th>\n",
       "      <th>v7</th>\n",
       "      <th>v8</th>\n",
       "      <th>v9</th>\n",
       "      <th>...</th>\n",
       "      <th>v21</th>\n",
       "      <th>v22</th>\n",
       "      <th>v23</th>\n",
       "      <th>v24</th>\n",
       "      <th>v25</th>\n",
       "      <th>v26</th>\n",
       "      <th>v27</th>\n",
       "      <th>v28</th>\n",
       "      <th>amount</th>\n",
       "      <th>label</th>\n",
       "    </tr>\n",
       "  </thead>\n",
       "  <tbody>\n",
       "    <tr>\n",
       "      <th>0</th>\n",
       "      <td>-1.996580</td>\n",
       "      <td>-1.359807</td>\n",
       "      <td>-0.072781</td>\n",
       "      <td>2.536347</td>\n",
       "      <td>1.378155</td>\n",
       "      <td>-0.338321</td>\n",
       "      <td>0.462388</td>\n",
       "      <td>0.239599</td>\n",
       "      <td>0.098698</td>\n",
       "      <td>0.363787</td>\n",
       "      <td>...</td>\n",
       "      <td>-0.018307</td>\n",
       "      <td>0.277838</td>\n",
       "      <td>-0.110474</td>\n",
       "      <td>0.066928</td>\n",
       "      <td>0.128539</td>\n",
       "      <td>-0.189115</td>\n",
       "      <td>0.133558</td>\n",
       "      <td>-0.021053</td>\n",
       "      <td>0.244964</td>\n",
       "      <td>0</td>\n",
       "    </tr>\n",
       "    <tr>\n",
       "      <th>1</th>\n",
       "      <td>-1.996580</td>\n",
       "      <td>1.191857</td>\n",
       "      <td>0.266151</td>\n",
       "      <td>0.166480</td>\n",
       "      <td>0.448154</td>\n",
       "      <td>0.060018</td>\n",
       "      <td>-0.082361</td>\n",
       "      <td>-0.078803</td>\n",
       "      <td>0.085102</td>\n",
       "      <td>-0.255425</td>\n",
       "      <td>...</td>\n",
       "      <td>-0.225775</td>\n",
       "      <td>-0.638672</td>\n",
       "      <td>0.101288</td>\n",
       "      <td>-0.339846</td>\n",
       "      <td>0.167170</td>\n",
       "      <td>0.125895</td>\n",
       "      <td>-0.008983</td>\n",
       "      <td>0.014724</td>\n",
       "      <td>-0.342474</td>\n",
       "      <td>0</td>\n",
       "    </tr>\n",
       "    <tr>\n",
       "      <th>2</th>\n",
       "      <td>-1.996558</td>\n",
       "      <td>-1.358354</td>\n",
       "      <td>-1.340163</td>\n",
       "      <td>1.773209</td>\n",
       "      <td>0.379780</td>\n",
       "      <td>-0.503198</td>\n",
       "      <td>1.800499</td>\n",
       "      <td>0.791461</td>\n",
       "      <td>0.247676</td>\n",
       "      <td>-1.514654</td>\n",
       "      <td>...</td>\n",
       "      <td>0.247998</td>\n",
       "      <td>0.771679</td>\n",
       "      <td>0.909412</td>\n",
       "      <td>-0.689281</td>\n",
       "      <td>-0.327642</td>\n",
       "      <td>-0.139097</td>\n",
       "      <td>-0.055353</td>\n",
       "      <td>-0.059752</td>\n",
       "      <td>1.160684</td>\n",
       "      <td>0</td>\n",
       "    </tr>\n",
       "    <tr>\n",
       "      <th>3</th>\n",
       "      <td>-1.996558</td>\n",
       "      <td>-0.966272</td>\n",
       "      <td>-0.185226</td>\n",
       "      <td>1.792993</td>\n",
       "      <td>-0.863291</td>\n",
       "      <td>-0.010309</td>\n",
       "      <td>1.247203</td>\n",
       "      <td>0.237609</td>\n",
       "      <td>0.377436</td>\n",
       "      <td>-1.387024</td>\n",
       "      <td>...</td>\n",
       "      <td>-0.108300</td>\n",
       "      <td>0.005274</td>\n",
       "      <td>-0.190321</td>\n",
       "      <td>-1.175575</td>\n",
       "      <td>0.647376</td>\n",
       "      <td>-0.221929</td>\n",
       "      <td>0.062723</td>\n",
       "      <td>0.061458</td>\n",
       "      <td>0.140534</td>\n",
       "      <td>0</td>\n",
       "    </tr>\n",
       "    <tr>\n",
       "      <th>4</th>\n",
       "      <td>-1.996537</td>\n",
       "      <td>-1.158233</td>\n",
       "      <td>0.877737</td>\n",
       "      <td>1.548718</td>\n",
       "      <td>0.403034</td>\n",
       "      <td>-0.407193</td>\n",
       "      <td>0.095921</td>\n",
       "      <td>0.592941</td>\n",
       "      <td>-0.270533</td>\n",
       "      <td>0.817739</td>\n",
       "      <td>...</td>\n",
       "      <td>-0.009431</td>\n",
       "      <td>0.798278</td>\n",
       "      <td>-0.137458</td>\n",
       "      <td>0.141267</td>\n",
       "      <td>-0.206010</td>\n",
       "      <td>0.502292</td>\n",
       "      <td>0.219422</td>\n",
       "      <td>0.215153</td>\n",
       "      <td>-0.073403</td>\n",
       "      <td>0</td>\n",
       "    </tr>\n",
       "  </tbody>\n",
       "</table>\n",
       "<p>5 rows × 31 columns</p>\n",
       "</div>"
      ],
      "text/plain": [
       "       time        v1        v2        v3        v4        v5        v6  \\\n",
       "0 -1.996580 -1.359807 -0.072781  2.536347  1.378155 -0.338321  0.462388   \n",
       "1 -1.996580  1.191857  0.266151  0.166480  0.448154  0.060018 -0.082361   \n",
       "2 -1.996558 -1.358354 -1.340163  1.773209  0.379780 -0.503198  1.800499   \n",
       "3 -1.996558 -0.966272 -0.185226  1.792993 -0.863291 -0.010309  1.247203   \n",
       "4 -1.996537 -1.158233  0.877737  1.548718  0.403034 -0.407193  0.095921   \n",
       "\n",
       "         v7        v8        v9  ...       v21       v22       v23       v24  \\\n",
       "0  0.239599  0.098698  0.363787  ... -0.018307  0.277838 -0.110474  0.066928   \n",
       "1 -0.078803  0.085102 -0.255425  ... -0.225775 -0.638672  0.101288 -0.339846   \n",
       "2  0.791461  0.247676 -1.514654  ...  0.247998  0.771679  0.909412 -0.689281   \n",
       "3  0.237609  0.377436 -1.387024  ... -0.108300  0.005274 -0.190321 -1.175575   \n",
       "4  0.592941 -0.270533  0.817739  ... -0.009431  0.798278 -0.137458  0.141267   \n",
       "\n",
       "        v25       v26       v27       v28    amount  label  \n",
       "0  0.128539 -0.189115  0.133558 -0.021053  0.244964      0  \n",
       "1  0.167170  0.125895 -0.008983  0.014724 -0.342474      0  \n",
       "2 -0.327642 -0.139097 -0.055353 -0.059752  1.160684      0  \n",
       "3  0.647376 -0.221929  0.062723  0.061458  0.140534      0  \n",
       "4 -0.206010  0.502292  0.219422  0.215153 -0.073403      0  \n",
       "\n",
       "[5 rows x 31 columns]"
      ]
     },
     "metadata": {},
     "output_type": "display_data"
    },
    {
     "data": {
      "text/plain": [
       "label\n",
       "0    0.998273\n",
       "1    0.001727\n",
       "Name: proportion, dtype: float64"
      ]
     },
     "execution_count": 3,
     "metadata": {},
     "output_type": "execute_result"
    }
   ],
   "source": [
    "# load and prepare data\n",
    "df = pd.read_csv(\"../\" + config[\"data_loader\"][\"path\"])\n",
    "df = prepare_data(df=df)\n",
    "display(df.head())\n",
    "\n",
    "# check class distributions\n",
    "df[\"label\"].value_counts(normalize=True)"
   ]
  },
  {
   "cell_type": "markdown",
   "metadata": {},
   "source": [
    "**Train and Test Set**\n",
    "- Split whole set into train, validation and test sets using strat sampling\n",
    "- Apply oversampling as the number of positive instances is small"
   ]
  },
  {
   "cell_type": "code",
   "execution_count": 4,
   "metadata": {},
   "outputs": [],
   "source": [
    "# split dataset into train and test sets\n",
    "X_train, X_test, y_train, y_test = train_test_split(\n",
    "    df.iloc[:,:-1], df[\"label\"]\n",
    "    , test_size=config[\"train_test_split\"][\"test_size\"]\n",
    "    , random_state=config[\"general\"][\"seed\"]\n",
    "    , shuffle=True\n",
    "    , stratify=df[\"label\"]\n",
    "    )\n",
    "\n",
    "# split dataset into train and validation sets\n",
    "X_train, X_val, y_train, y_val = train_test_split(\n",
    "    X_train, y_train\n",
    "    , test_size=config[\"train_test_split\"][\"test_size\"]\n",
    "    , random_state=config[\"general\"][\"seed\"]\n",
    "    , shuffle=True\n",
    "    , stratify=y_train\n",
    "    )"
   ]
  },
  {
   "cell_type": "code",
   "execution_count": 5,
   "metadata": {},
   "outputs": [
    {
     "name": "stdout",
     "output_type": "stream",
     "text": [
      "label\n",
      "0    0.998273\n",
      "1    0.001727\n",
      "Name: proportion, dtype: float64 label\n",
      "0    0.5\n",
      "1    0.5\n",
      "Name: proportion, dtype: float64\n"
     ]
    }
   ],
   "source": [
    "# apply oversampling to the train set\n",
    "X_train_rs, y_train_rs = imbalanced_sampling(\n",
    "    method=\"over\"\n",
    "    , X_train=X_train\n",
    "    , y_train=y_train\n",
    ")\n",
    "\n",
    "# check class distributions\n",
    "print(\n",
    "    y_train.value_counts(normalize=True)\n",
    "    , y_train_rs.value_counts(normalize=True)\n",
    "    )"
   ]
  },
  {
   "cell_type": "markdown",
   "metadata": {},
   "source": [
    "**Optimization & Evaluation**\n",
    "- Hyper-parameters - search which hyper-parameters optimize scoring metric for the given algorithm in the validation set\n",
    "- Evaluation - retrieve best hyper-parameters and recover full training set, applying over sampling, to evaluate results on test set"
   ]
  },
  {
   "cell_type": "code",
   "execution_count": 6,
   "metadata": {},
   "outputs": [],
   "source": [
    "ALGORITHM = \"NeuralNetworkClassifier\""
   ]
  },
  {
   "cell_type": "code",
   "execution_count": 7,
   "metadata": {},
   "outputs": [
    {
     "name": "stderr",
     "output_type": "stream",
     "text": [
      "[I 2025-06-13 16:44:51,823] A new study created in memory with name: no-name-f75bfc74-871a-480f-ac07-31b36fedf174\n"
     ]
    },
    {
     "name": "stdout",
     "output_type": "stream",
     "text": [
      "\u001b[1m423/423\u001b[0m \u001b[32m━━━━━━━━━━━━━━━━━━━━\u001b[0m\u001b[37m\u001b[0m \u001b[1m1s\u001b[0m 2ms/step\n"
     ]
    },
    {
     "name": "stderr",
     "output_type": "stream",
     "text": [
      "[I 2025-06-13 16:46:24,086] Trial 0 finished with value: 0.99557 and parameters: {'n_layers': 11, 'units_0': 245, 'activation_0': 'sigmoid', 'units_1': 67, 'activation_1': 'sigmoid', 'units_2': 226, 'activation_2': 'relu', 'units_3': 36, 'activation_3': 'sigmoid', 'units_4': 79, 'activation_4': 'relu', 'units_5': 100, 'activation_5': 'sigmoid', 'units_6': 97, 'activation_6': 'sigmoid', 'units_7': 97, 'activation_7': 'relu', 'units_8': 208, 'activation_8': 'relu', 'units_9': 165, 'activation_9': 'relu', 'units_10': 70, 'activation_10': 'relu', 'batch_size': 125, 'learning_rate': 0.008103133746352966}. Best is trial 0 with value: 0.99557.\n"
     ]
    },
    {
     "name": "stdout",
     "output_type": "stream",
     "text": [
      "\u001b[1m423/423\u001b[0m \u001b[32m━━━━━━━━━━━━━━━━━━━━\u001b[0m\u001b[37m\u001b[0m \u001b[1m1s\u001b[0m 2ms/step\n"
     ]
    },
    {
     "name": "stderr",
     "output_type": "stream",
     "text": [
      "[I 2025-06-13 16:48:13,405] Trial 1 finished with value: 0.99756 and parameters: {'n_layers': 10, 'units_0': 53, 'activation_0': 'sigmoid', 'units_1': 59, 'activation_1': 'sigmoid', 'units_2': 236, 'activation_2': 'relu', 'units_3': 102, 'activation_3': 'relu', 'units_4': 73, 'activation_4': 'sigmoid', 'units_5': 243, 'activation_5': 'sigmoid', 'units_6': 239, 'activation_6': 'relu', 'units_7': 42, 'activation_7': 'relu', 'units_8': 93, 'activation_8': 'sigmoid', 'units_9': 95, 'activation_9': 'sigmoid', 'batch_size': 106, 'learning_rate': 0.0008380513724297313}. Best is trial 1 with value: 0.99756.\n"
     ]
    },
    {
     "name": "stdout",
     "output_type": "stream",
     "text": [
      "\u001b[1m423/423\u001b[0m \u001b[32m━━━━━━━━━━━━━━━━━━━━\u001b[0m\u001b[37m\u001b[0m \u001b[1m1s\u001b[0m 3ms/step\n"
     ]
    },
    {
     "name": "stderr",
     "output_type": "stream",
     "text": [
      "[I 2025-06-13 16:51:20,425] Trial 2 finished with value: 0.0017 and parameters: {'n_layers': 16, 'units_0': 205, 'activation_0': 'sigmoid', 'units_1': 215, 'activation_1': 'relu', 'units_2': 205, 'activation_2': 'relu', 'units_3': 58, 'activation_3': 'sigmoid', 'units_4': 106, 'activation_4': 'relu', 'units_5': 105, 'activation_5': 'sigmoid', 'units_6': 231, 'activation_6': 'sigmoid', 'units_7': 192, 'activation_7': 'sigmoid', 'units_8': 205, 'activation_8': 'relu', 'units_9': 128, 'activation_9': 'relu', 'units_10': 39, 'activation_10': 'sigmoid', 'units_11': 146, 'activation_11': 'sigmoid', 'units_12': 124, 'activation_12': 'sigmoid', 'units_13': 49, 'activation_13': 'sigmoid', 'units_14': 241, 'activation_14': 'sigmoid', 'units_15': 228, 'activation_15': 'sigmoid', 'batch_size': 116, 'learning_rate': 0.005439488194964943}. Best is trial 1 with value: 0.99756.\n"
     ]
    },
    {
     "name": "stdout",
     "output_type": "stream",
     "text": [
      "\u001b[1m423/423\u001b[0m \u001b[32m━━━━━━━━━━━━━━━━━━━━\u001b[0m\u001b[37m\u001b[0m \u001b[1m1s\u001b[0m 3ms/step\n"
     ]
    },
    {
     "name": "stderr",
     "output_type": "stream",
     "text": [
      "[I 2025-06-13 16:58:47,132] Trial 3 finished with value: 0.0017 and parameters: {'n_layers': 15, 'units_0': 233, 'activation_0': 'sigmoid', 'units_1': 83, 'activation_1': 'relu', 'units_2': 225, 'activation_2': 'relu', 'units_3': 125, 'activation_3': 'sigmoid', 'units_4': 107, 'activation_4': 'sigmoid', 'units_5': 148, 'activation_5': 'sigmoid', 'units_6': 250, 'activation_6': 'sigmoid', 'units_7': 143, 'activation_7': 'sigmoid', 'units_8': 40, 'activation_8': 'sigmoid', 'units_9': 43, 'activation_9': 'relu', 'units_10': 85, 'activation_10': 'relu', 'units_11': 253, 'activation_11': 'relu', 'units_12': 203, 'activation_12': 'relu', 'units_13': 114, 'activation_13': 'relu', 'units_14': 152, 'activation_14': 'relu', 'batch_size': 52, 'learning_rate': 0.0019465332529585572}. Best is trial 1 with value: 0.99756.\n"
     ]
    },
    {
     "name": "stdout",
     "output_type": "stream",
     "text": [
      "\u001b[1m423/423\u001b[0m \u001b[32m━━━━━━━━━━━━━━━━━━━━\u001b[0m\u001b[37m\u001b[0m \u001b[1m1s\u001b[0m 2ms/step\n"
     ]
    },
    {
     "name": "stderr",
     "output_type": "stream",
     "text": [
      "[I 2025-06-13 17:00:31,203] Trial 4 finished with value: 0.99867 and parameters: {'n_layers': 8, 'units_0': 164, 'activation_0': 'sigmoid', 'units_1': 147, 'activation_1': 'relu', 'units_2': 71, 'activation_2': 'sigmoid', 'units_3': 242, 'activation_3': 'relu', 'units_4': 57, 'activation_4': 'sigmoid', 'units_5': 90, 'activation_5': 'relu', 'units_6': 156, 'activation_6': 'sigmoid', 'units_7': 52, 'activation_7': 'relu', 'batch_size': 87, 'learning_rate': 0.003456394931382137}. Best is trial 4 with value: 0.99867.\n"
     ]
    },
    {
     "name": "stdout",
     "output_type": "stream",
     "text": [
      "\u001b[1m423/423\u001b[0m \u001b[32m━━━━━━━━━━━━━━━━━━━━\u001b[0m\u001b[37m\u001b[0m \u001b[1m1s\u001b[0m 2ms/step\n"
     ]
    },
    {
     "name": "stderr",
     "output_type": "stream",
     "text": [
      "[I 2025-06-13 17:03:29,936] Trial 5 finished with value: 0.0017 and parameters: {'n_layers': 11, 'units_0': 195, 'activation_0': 'sigmoid', 'units_1': 207, 'activation_1': 'sigmoid', 'units_2': 68, 'activation_2': 'sigmoid', 'units_3': 34, 'activation_3': 'relu', 'units_4': 33, 'activation_4': 'relu', 'units_5': 187, 'activation_5': 'sigmoid', 'units_6': 192, 'activation_6': 'relu', 'units_7': 199, 'activation_7': 'relu', 'units_8': 179, 'activation_8': 'sigmoid', 'units_9': 114, 'activation_9': 'sigmoid', 'units_10': 250, 'activation_10': 'relu', 'batch_size': 87, 'learning_rate': 0.007968631905062319}. Best is trial 4 with value: 0.99867.\n"
     ]
    },
    {
     "name": "stdout",
     "output_type": "stream",
     "text": [
      "\u001b[1m423/423\u001b[0m \u001b[32m━━━━━━━━━━━━━━━━━━━━\u001b[0m\u001b[37m\u001b[0m \u001b[1m1s\u001b[0m 2ms/step\n"
     ]
    },
    {
     "name": "stderr",
     "output_type": "stream",
     "text": [
      "[I 2025-06-13 17:07:08,391] Trial 6 finished with value: 0.0017 and parameters: {'n_layers': 12, 'units_0': 161, 'activation_0': 'sigmoid', 'units_1': 194, 'activation_1': 'sigmoid', 'units_2': 177, 'activation_2': 'relu', 'units_3': 246, 'activation_3': 'sigmoid', 'units_4': 35, 'activation_4': 'sigmoid', 'units_5': 249, 'activation_5': 'sigmoid', 'units_6': 98, 'activation_6': 'relu', 'units_7': 103, 'activation_7': 'relu', 'units_8': 242, 'activation_8': 'sigmoid', 'units_9': 53, 'activation_9': 'relu', 'units_10': 63, 'activation_10': 'relu', 'units_11': 198, 'activation_11': 'relu', 'batch_size': 56, 'learning_rate': 0.003006559258218484}. Best is trial 4 with value: 0.99867.\n"
     ]
    },
    {
     "name": "stdout",
     "output_type": "stream",
     "text": [
      "\u001b[1m423/423\u001b[0m \u001b[32m━━━━━━━━━━━━━━━━━━━━\u001b[0m\u001b[37m\u001b[0m \u001b[1m1s\u001b[0m 3ms/step\n"
     ]
    },
    {
     "name": "stderr",
     "output_type": "stream",
     "text": [
      "[I 2025-06-13 17:13:02,175] Trial 7 finished with value: 0.0017 and parameters: {'n_layers': 15, 'units_0': 214, 'activation_0': 'relu', 'units_1': 147, 'activation_1': 'relu', 'units_2': 178, 'activation_2': 'relu', 'units_3': 232, 'activation_3': 'relu', 'units_4': 53, 'activation_4': 'sigmoid', 'units_5': 136, 'activation_5': 'sigmoid', 'units_6': 164, 'activation_6': 'relu', 'units_7': 217, 'activation_7': 'sigmoid', 'units_8': 149, 'activation_8': 'sigmoid', 'units_9': 172, 'activation_9': 'sigmoid', 'units_10': 151, 'activation_10': 'relu', 'units_11': 195, 'activation_11': 'sigmoid', 'units_12': 104, 'activation_12': 'sigmoid', 'units_13': 130, 'activation_13': 'sigmoid', 'units_14': 248, 'activation_14': 'sigmoid', 'batch_size': 62, 'learning_rate': 0.0018156137687013734}. Best is trial 4 with value: 0.99867.\n"
     ]
    },
    {
     "name": "stdout",
     "output_type": "stream",
     "text": [
      "\u001b[1m423/423\u001b[0m \u001b[32m━━━━━━━━━━━━━━━━━━━━\u001b[0m\u001b[37m\u001b[0m \u001b[1m3s\u001b[0m 6ms/step\n"
     ]
    },
    {
     "name": "stderr",
     "output_type": "stream",
     "text": [
      "[I 2025-06-13 17:18:23,810] Trial 8 finished with value: 0.99941 and parameters: {'n_layers': 9, 'units_0': 88, 'activation_0': 'relu', 'units_1': 180, 'activation_1': 'relu', 'units_2': 198, 'activation_2': 'relu', 'units_3': 126, 'activation_3': 'relu', 'units_4': 202, 'activation_4': 'relu', 'units_5': 42, 'activation_5': 'relu', 'units_6': 190, 'activation_6': 'sigmoid', 'units_7': 142, 'activation_7': 'sigmoid', 'units_8': 129, 'activation_8': 'relu', 'batch_size': 87, 'learning_rate': 0.0005485096967432408}. Best is trial 8 with value: 0.99941.\n"
     ]
    },
    {
     "name": "stdout",
     "output_type": "stream",
     "text": [
      "\u001b[1m423/423\u001b[0m \u001b[32m━━━━━━━━━━━━━━━━━━━━\u001b[0m\u001b[37m\u001b[0m \u001b[1m1s\u001b[0m 2ms/step\n"
     ]
    },
    {
     "name": "stderr",
     "output_type": "stream",
     "text": [
      "[I 2025-06-13 17:23:09,881] Trial 9 finished with value: 0.0017 and parameters: {'n_layers': 11, 'units_0': 172, 'activation_0': 'relu', 'units_1': 180, 'activation_1': 'sigmoid', 'units_2': 176, 'activation_2': 'relu', 'units_3': 243, 'activation_3': 'sigmoid', 'units_4': 176, 'activation_4': 'relu', 'units_5': 243, 'activation_5': 'relu', 'units_6': 235, 'activation_6': 'sigmoid', 'units_7': 54, 'activation_7': 'relu', 'units_8': 185, 'activation_8': 'relu', 'units_9': 222, 'activation_9': 'relu', 'units_10': 95, 'activation_10': 'relu', 'batch_size': 87, 'learning_rate': 0.008786972933917824}. Best is trial 8 with value: 0.99941.\n"
     ]
    },
    {
     "name": "stdout",
     "output_type": "stream",
     "text": [
      "Best trial:\n",
      " - params: {'n_layers': 9, 'units_0': 88, 'activation_0': 'relu', 'units_1': 180, 'activation_1': 'relu', 'units_2': 198, 'activation_2': 'relu', 'units_3': 126, 'activation_3': 'relu', 'units_4': 202, 'activation_4': 'relu', 'units_5': 42, 'activation_5': 'relu', 'units_6': 190, 'activation_6': 'sigmoid', 'units_7': 142, 'activation_7': 'sigmoid', 'units_8': 129, 'activation_8': 'relu', 'batch_size': 87, 'learning_rate': 0.0005485096967432408}\n",
      " - score: 0.99941 \n",
      "\n",
      "\n"
     ]
    }
   ],
   "source": [
    "# set tuner for hyperparam optimization\n",
    "tuner = HyperParamSearch(config=config['optimization'], algorithm=ALGORITHM)\n",
    "\n",
    "def objective(trial) -> float:\n",
    "    return tuner.fit(\n",
    "        X=X_train_rs, y=y_train_rs, trial=trial,\n",
    "        X_val=X_val, y_val=y_val\n",
    "        )\n",
    "\n",
    "# set study\n",
    "study = optuna.create_study(\n",
    "    direction='maximize',\n",
    "    sampler=optuna.samplers.TPESampler(seed=config[\"general\"][\"seed\"])\n",
    "    )\n",
    "study.optimize(objective, n_trials=10)\n",
    "\n",
    "print(\n",
    "    f\"Best trial:\\n\",\n",
    "    f\"- params: {study.best_trial.params}\\n\",\n",
    "    f\"- score: {study.best_trial.value}\", \"\\n\"*2\n",
    ")"
   ]
  },
  {
   "cell_type": "code",
   "execution_count": 8,
   "metadata": {},
   "outputs": [
    {
     "name": "stdout",
     "output_type": "stream",
     "text": [
      "\u001b[1m16882/16882\u001b[0m \u001b[32m━━━━━━━━━━━━━━━━━━━━\u001b[0m\u001b[37m\u001b[0m \u001b[1m59s\u001b[0m 3ms/step\n",
      "\u001b[1m446/446\u001b[0m \u001b[32m━━━━━━━━━━━━━━━━━━━━\u001b[0m\u001b[37m\u001b[0m \u001b[1m2s\u001b[0m 5ms/step\n"
     ]
    },
    {
     "data": {
      "text/html": [
       "<div>\n",
       "<style scoped>\n",
       "    .dataframe tbody tr th:only-of-type {\n",
       "        vertical-align: middle;\n",
       "    }\n",
       "\n",
       "    .dataframe tbody tr th {\n",
       "        vertical-align: top;\n",
       "    }\n",
       "\n",
       "    .dataframe thead th {\n",
       "        text-align: right;\n",
       "    }\n",
       "</style>\n",
       "<table border=\"1\" class=\"dataframe\">\n",
       "  <thead>\n",
       "    <tr style=\"text-align: right;\">\n",
       "      <th></th>\n",
       "      <th>accuracy</th>\n",
       "      <th>precision</th>\n",
       "      <th>recall</th>\n",
       "      <th>f1_score</th>\n",
       "    </tr>\n",
       "    <tr>\n",
       "      <th>dataset</th>\n",
       "      <th></th>\n",
       "      <th></th>\n",
       "      <th></th>\n",
       "      <th></th>\n",
       "    </tr>\n",
       "  </thead>\n",
       "  <tbody>\n",
       "    <tr>\n",
       "      <th>train</th>\n",
       "      <td>0.99976</td>\n",
       "      <td>0.99952</td>\n",
       "      <td>1.00</td>\n",
       "      <td>0.99976</td>\n",
       "    </tr>\n",
       "    <tr>\n",
       "      <th>test</th>\n",
       "      <td>0.99860</td>\n",
       "      <td>0.56410</td>\n",
       "      <td>0.88</td>\n",
       "      <td>0.68750</td>\n",
       "    </tr>\n",
       "  </tbody>\n",
       "</table>\n",
       "</div>"
      ],
      "text/plain": [
       "         accuracy  precision  recall  f1_score\n",
       "dataset                                       \n",
       "train     0.99976    0.99952    1.00   0.99976\n",
       "test      0.99860    0.56410    0.88   0.68750"
      ]
     },
     "metadata": {},
     "output_type": "display_data"
    }
   ],
   "source": [
    "# fit model on whole training set\n",
    "X_train, y_train = pd.concat([X_train, X_val]), pd.concat([y_train, y_val])\n",
    "X_train_rs, y_train_rs = imbalanced_sampling(\n",
    "    method='over'\n",
    "    , X_train=X_train\n",
    "    , y_train=y_train\n",
    ")\n",
    "\n",
    "# set algorithm best hyperparams\n",
    "hyperparams = (\n",
    "    config[\"optimization\"][\"param_grid\"][ALGORITHM][\"fixed\"]\n",
    "    | study.best_trial.params\n",
    ")\n",
    "\n",
    "clf = Classifier(algorithm=ALGORITHM, **hyperparams)\n",
    "clf.fit(X=X_train_rs, y=y_train_rs)\n",
    "\n",
    "# test set evaluation\n",
    "eval = Evaluation(clf=clf, threshold=0.5)\n",
    "display(eval.fit(train=(X_train_rs, y_train_rs), test=(X_test, y_test)))"
   ]
  }
 ],
 "metadata": {
  "kernelspec": {
   "display_name": ".venv",
   "language": "python",
   "name": "python3"
  },
  "language_info": {
   "codemirror_mode": {
    "name": "ipython",
    "version": 3
   },
   "file_extension": ".py",
   "mimetype": "text/x-python",
   "name": "python",
   "nbconvert_exporter": "python",
   "pygments_lexer": "ipython3",
   "version": "3.11.9"
  }
 },
 "nbformat": 4,
 "nbformat_minor": 2
}
