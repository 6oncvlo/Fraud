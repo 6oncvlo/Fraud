{
 "cells": [
  {
   "cell_type": "code",
   "execution_count": null,
   "id": "b02bd48f",
   "metadata": {},
   "outputs": [],
   "source": [
    "import sys\n",
    "import os\n",
    "\n",
    "sys.path.append(os.path.abspath('..'))\n",
    "\n",
    "import yaml\n",
    "import pandas as pd\n",
    "from sklearn.model_selection import train_test_split\n",
    "\n",
    "from src.data.prepare_data import prepare_data\n",
    "from src.models.classification import Classification\n",
    "from src.models.evaluation import Evaluation"
   ]
  },
  {
   "cell_type": "code",
   "execution_count": null,
   "id": "6aa7e1d5",
   "metadata": {},
   "outputs": [],
   "source": [
    "# read config\n",
    "with open('../'+'config.yml', 'r') as file:\n",
    "    config=yaml.load(file, Loader= yaml.SafeLoader)\n",
    "del file"
   ]
  },
  {
   "cell_type": "code",
   "execution_count": null,
   "id": "c3f37d80",
   "metadata": {},
   "outputs": [],
   "source": [
    "# load and prepare data\n",
    "df = pd.read_csv('../'+config['data_loader']['path'])\n",
    "df = prepare_data(df=df)\n",
    "display(df.head())"
   ]
  },
  {
   "cell_type": "code",
   "execution_count": null,
   "id": "285c847f",
   "metadata": {},
   "outputs": [],
   "source": [
    "# split dataset into train and test sets\n",
    "X_train, X_test, y_train, y_test = train_test_split(\n",
    "    df.iloc[:,:-1], df['target']\n",
    "    , test_size=config['train_test_split']['test_size']\n",
    "    , random_state=123\n",
    "    , shuffle=True\n",
    "    , stratify=df['target']\n",
    "    )\n",
    "\n",
    "# check class distributions\n",
    "print(\n",
    "    y_train.value_counts(normalize=True)\n",
    "    , y_test.value_counts(normalize=True)\n",
    "    )"
   ]
  },
  {
   "cell_type": "code",
   "execution_count": null,
   "id": "fe1861de",
   "metadata": {},
   "outputs": [],
   "source": [
    "# fit algorithm\n",
    "clf = Classification(algorithm='DecisionTreeClassifier', **{'max_depth': 10})\n",
    "clf.fit(X=X_train.iloc[:, :3], y=y_train)\n",
    "\n",
    "# test set evaluation\n",
    "eval = Evaluation(clf=clf, threshold=0.5)\n",
    "eval.fit(\n",
    "    X_train=X_train.iloc[:, :3], y_train=y_train\n",
    "    , X_test=X_test.iloc[:, :3], y_test=y_test\n",
    "    )"
   ]
  },
  {
   "cell_type": "code",
   "execution_count": null,
   "id": "dbe0d2ec",
   "metadata": {},
   "outputs": [],
   "source": [
    "from src.visuals.boundary import plot_boundary\n",
    "\n",
    "plot_boundary(X=X_test.iloc[:, :3], y=y_test, clf=clf, azim=50, plot_points=True) "
   ]
  }
 ],
 "metadata": {
  "kernelspec": {
   "display_name": ".venv",
   "language": "python",
   "name": "python3"
  },
  "language_info": {
   "codemirror_mode": {
    "name": "ipython",
    "version": 3
   },
   "file_extension": ".py",
   "mimetype": "text/x-python",
   "name": "python",
   "nbconvert_exporter": "python",
   "pygments_lexer": "ipython3",
   "version": "3.11.9"
  }
 },
 "nbformat": 4,
 "nbformat_minor": 5
}
