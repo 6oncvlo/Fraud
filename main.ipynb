{
 "cells": [
  {
   "cell_type": "code",
   "execution_count": null,
   "metadata": {},
   "outputs": [],
   "source": [
    "import yaml\n",
    "import numpy as np\n",
    "import pandas as pd\n",
    "import matplotlib.pyplot as plt\n",
    "import seaborn as sns\n",
    "from sklearn.model_selection import train_test_split\n",
    "\n",
    "from src.models.model_selection import GridSearch, FeatureSelection\n",
    "from src.models.classification import Classification"
   ]
  },
  {
   "cell_type": "code",
   "execution_count": null,
   "metadata": {},
   "outputs": [],
   "source": [
    "# read config\n",
    "with open('config.yml', 'r') as file:\n",
    "    config=yaml.load(file, Loader= yaml.SafeLoader)\n",
    "del file"
   ]
  },
  {
   "cell_type": "code",
   "execution_count": null,
   "metadata": {},
   "outputs": [],
   "source": [
    "# load data\n",
    "df = pd.read_csv(config['data_loader']['path'])\n",
    "display(df.head())\n",
    "\n",
    "# split dataset into train and test sets\n",
    "X_train, X_test, y_train, y_test = train_test_split(\n",
    "    df.iloc[:,1:-1], df['Class']\n",
    "    , test_size=config['model_selection']['test_set_size']\n",
    "    , random_state=123\n",
    "    , shuffle=True\n",
    "    )"
   ]
  },
  {
   "cell_type": "code",
   "execution_count": null,
   "metadata": {},
   "outputs": [],
   "source": [
    "grid_search = GridSearch(model_selection=config['model_selection'])\n",
    "grid_search.fit(X=X_train, y=y_train)"
   ]
  },
  {
   "cell_type": "code",
   "execution_count": null,
   "metadata": {},
   "outputs": [],
   "source": [
    "# greedy feature selection\n",
    "clf=Classification(\n",
    "    algorithm=grid_search.best_algorithm\n",
    "    , **grid_search.best_hyperparams\n",
    "    )\n",
    "feature_selection = FeatureSelection(X=X_train, y=y_train)\n",
    "feature_selection.wrapper(clf=clf, model_selection=config['model_selection']\n",
    ")\n",
    "\n",
    "# should feature selection be done before or after model selection?\n",
    "# should it be trained on different dataset?"
   ]
  },
  {
   "cell_type": "code",
   "execution_count": null,
   "metadata": {},
   "outputs": [],
   "source": [
    "# fit best algorithm on most important features of training data \n",
    "clf = clf=Classification(\n",
    "    algorithm=grid_search.best_algorithm\n",
    "    , **grid_search.best_hyperparams\n",
    "    )\n",
    "clf.fit(X=X_train.iloc[100000:, :], y=y_train.iloc[100000:,])\n",
    "# predict target value for the test set\n",
    "y_pred = clf.predict(X_test)\n",
    "y_score = clf.score(X_test)[:, -1]"
   ]
  },
  {
   "cell_type": "code",
   "execution_count": null,
   "metadata": {},
   "outputs": [],
   "source": [
    "from src.models.model_selection import ClassificationThreshold\n",
    "\n",
    "tuned_clf = ClassificationThreshold(model_selection=config['model_selection'])\n",
    "tuned_clf.fit(clf=clf, X=X_train.iloc[:100000, :], y=y_train.iloc[:100000,])"
   ]
  },
  {
   "cell_type": "code",
   "execution_count": null,
   "metadata": {},
   "outputs": [],
   "source": [
    "from sklearn.metrics import accuracy_score, precision_score, recall_score, f1_score\n",
    "from src.visuals.pr_roc_curve import plot_roc_pr_curves\n",
    "\n",
    "plot_roc_pr_curves(clf.model, tuned_clf.model, X_train=X_train, y_train=y_train)\n",
    "\n",
    "# Print evaluation metrics\n",
    "print(\n",
    "    f\"\"\"Accuracy : {round(accuracy_score(y_test, y_pred), 5)}\n",
    "Precision: {round(precision_score(y_test, y_pred), 5)}\n",
    "Recall   : {round(recall_score(y_test, y_pred), 5)}\n",
    "F1-Score : {round(f1_score(y_test, y_pred), 5)}\"\"\"\n",
    ")"
   ]
  },
  {
   "cell_type": "code",
   "execution_count": null,
   "metadata": {},
   "outputs": [],
   "source": [
    "from src.visuals.boundary import plot_boundary\n",
    "\n",
    "plot_boundary(\n",
    "    X=X_test.iloc[:,[3,6,8]], y=y_test, clf=clf, azim=50, plot_points=True\n",
    ")"
   ]
  },
  {
   "cell_type": "code",
   "execution_count": null,
   "metadata": {},
   "outputs": [],
   "source": [
    "#pd.DataFrame({'score': y_score, 'label': y_pred}).groupby(by=['label']).describe()\n",
    "#print(clf.model.decision_path(X_test[best_features[:2]].iloc[:10,:]))"
   ]
  },
  {
   "cell_type": "code",
   "execution_count": null,
   "metadata": {},
   "outputs": [],
   "source": [
    "\"\"\"\n",
    "https://medium.com/towards-data-science/tune-in-decision-threshold-optimization-with-scikit-learns-tunedthresholdclassifiercv-7de558a2cf58\n",
    "https://scikit-learn.org/stable/auto_examples/model_selection/plot_cost_sensitive_learning.html#tunedthresholdclassifiercv-no-cv\n",
    "https://scikit-learn.org/stable/modules/classification_threshold.html\n",
    "\n",
    "overfitting\n",
    "\n",
    "https://scikit-learn.org/stable/modules/learning_curve.html\n",
    "\"\"\""
   ]
  }
 ],
 "metadata": {
  "kernelspec": {
   "display_name": ".venv",
   "language": "python",
   "name": "python3"
  },
  "language_info": {
   "codemirror_mode": {
    "name": "ipython",
    "version": 3
   },
   "file_extension": ".py",
   "mimetype": "text/x-python",
   "name": "python",
   "nbconvert_exporter": "python",
   "pygments_lexer": "ipython3",
   "version": "3.11.9"
  }
 },
 "nbformat": 4,
 "nbformat_minor": 2
}
