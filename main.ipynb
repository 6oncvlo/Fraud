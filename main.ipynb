{
 "cells": [
  {
   "cell_type": "code",
   "execution_count": null,
   "metadata": {},
   "outputs": [],
   "source": [
    "import yaml\n",
    "import numpy as np\n",
    "import pandas as pd\n",
    "import matplotlib.pyplot as plt\n",
    "import seaborn as sns\n",
    "from sklearn.model_selection import train_test_split\n",
    "\n",
    "from src.models.classification import Classification\n",
    "from src.models.model_selection import grid_search, feature_selector\n",
    "from src.models.utils import get_run"
   ]
  },
  {
   "cell_type": "code",
   "execution_count": null,
   "metadata": {},
   "outputs": [],
   "source": [
    "# read config\n",
    "with open('config.yml', 'r') as file:\n",
    "    config=yaml.load(file, Loader= yaml.SafeLoader)\n",
    "del file"
   ]
  },
  {
   "cell_type": "code",
   "execution_count": null,
   "metadata": {},
   "outputs": [],
   "source": [
    "# load data\n",
    "df = pd.read_csv(config['data_loader']['path'])\n",
    "\n",
    "df.head()"
   ]
  },
  {
   "cell_type": "code",
   "execution_count": null,
   "metadata": {},
   "outputs": [],
   "source": [
    "# split dataset into train and test sets\n",
    "X_train, X_test, y_train, y_test = train_test_split(\n",
    "    df.iloc[:,1:-1], df['Class']\n",
    "    , test_size=config['model_selection']['test_set_size']\n",
    "    , random_state=123\n",
    "    , shuffle=True\n",
    "    )"
   ]
  },
  {
   "cell_type": "code",
   "execution_count": null,
   "metadata": {},
   "outputs": [],
   "source": [
    "hyper_params = {\n",
    "    'logistic_regression': {\n",
    "        'tol': [0.0001, 0.00005]\n",
    "        , 'max_iter': [100]\n",
    "        }\n",
    "    #, 'support_vector_machine': {\n",
    "    #    'tol': [0.01, 0.001]\n",
    "    #}\n",
    "    , 'decision_tree': {\n",
    "        'max_depth': [20]\n",
    "        , 'min_samples_leaf': [2, 5]\n",
    "        , 'max_leaf_nodes': [10]\n",
    "        }\n",
    "    , 'random_forest': {\n",
    "        'n_estimators': [10, 20]\n",
    "        , 'max_depth': [20]\n",
    "        , 'min_samples_leaf': [2, 5]\n",
    "        , 'max_leaf_nodes': [10]\n",
    "        }\n",
    "    , 'xgboost': {\n",
    "        'n_estimators': [10, 20]\n",
    "        , 'max_depth': [20]\n",
    "        }\n",
    "    }"
   ]
  },
  {
   "cell_type": "code",
   "execution_count": null,
   "metadata": {},
   "outputs": [],
   "source": [
    "grid_search(\n",
    "    X=X_train\n",
    "    , y=y_train\n",
    "    , hyper_params=hyper_params\n",
    "    , cv=config['model_selection']['cross_validator']\n",
    "    , scoring_metric=config['model_selection']['scoring_metric']\n",
    ")"
   ]
  },
  {
   "cell_type": "code",
   "execution_count": null,
   "metadata": {},
   "outputs": [],
   "source": [
    "# select best algorithm and its hyper-params\n",
    "best_algorithm, best_hyper_params = get_run(\n",
    "    experiment_names=['model_evaluation']\n",
    "    , order_by_metric=True\n",
    "    , metric_name=config['model_selection']['scoring_metric']\n",
    "    , num=2\n",
    ")\n",
    "\n",
    "# greedy feature selection\n",
    "\"\"\"best_features = feature_selector(\n",
    "    X=X_train\n",
    "    , y=y_train\n",
    "    , algorithm=best_algorithm\n",
    "    , algorithm_params=best_hyper_params\n",
    "    , tol=config['model_selection']['tolerance']\n",
    "    , cv=config['model_selection']['cross_validator']\n",
    "    , scoring_metric=config['model_selection']['scoring_metric']\n",
    ")\"\"\"\n",
    "\n",
    "print(\n",
    "    f'algorithm: {best_algorithm}'\n",
    "    , f'\\nparameters: {best_hyper_params}'\n",
    "    #, f'\\nfeatures: {best_features}'\n",
    ")"
   ]
  },
  {
   "cell_type": "code",
   "execution_count": null,
   "metadata": {},
   "outputs": [],
   "source": [
    "# fit best algorithm on most important features of training data \n",
    "clf = Classification(algorithm=best_algorithm, **best_hyper_params)\n",
    "clf.fit(X=X_train.iloc[:,[5,7]], y=y_train)\n",
    "# predict target value for the test set\n",
    "y_pred = clf.predict(X_test.iloc[:,[5,7]])\n",
    "y_score = clf.score(X_test.iloc[:,[5,7]])[:, -1]"
   ]
  },
  {
   "cell_type": "code",
   "execution_count": null,
   "metadata": {},
   "outputs": [],
   "source": [
    "from src.visuals.boundary import plot_boundary\n",
    "\n",
    "plot_boundary(\n",
    "    X=X_test.iloc[:,[5,7]], y=y_test, clf=clf, plot_points=False\n",
    ")"
   ]
  },
  {
   "cell_type": "code",
   "execution_count": null,
   "metadata": {},
   "outputs": [],
   "source": [
    "#pd.DataFrame({'score': y_score, 'label': y_pred}).groupby(by=['label']).describe()\n",
    "#print(clf.model.decision_path(X_test[best_features[:2]].iloc[:10,:]))"
   ]
  },
  {
   "cell_type": "code",
   "execution_count": null,
   "metadata": {},
   "outputs": [],
   "source": [
    "from sklearn.metrics import (\n",
    "    accuracy_score\n",
    "    , precision_score, recall_score, f1_score\n",
    "    , roc_curve, auc, RocCurveDisplay\n",
    ")\n",
    "\n",
    "print(\n",
    "    f\"\"\"Accuracy : {round(accuracy_score(y_test, y_pred), 5)}\n",
    "Precision: {round(precision_score(y_test, y_pred), 5)}\n",
    "Recall   : {round(recall_score(y_test, y_pred), 5)}\n",
    "F1-Score : {round(f1_score(y_test, y_pred), 5)}\"\"\"\n",
    ")\n",
    "\n",
    "fpr, tpr, thresholds = roc_curve(\n",
    "    y_true=y_test\n",
    "    , y_score=y_score\n",
    "    , drop_intermediate=False\n",
    "    )\n",
    "roc_auc = auc(x=fpr, y=tpr)\n",
    "display = RocCurveDisplay(\n",
    "    fpr=fpr, tpr=tpr, roc_auc=roc_auc,\n",
    "    estimator_name=best_algorithm\n",
    "    )\n",
    "display.plot()\n",
    "plt.show()"
   ]
  }
 ],
 "metadata": {
  "kernelspec": {
   "display_name": ".venv",
   "language": "python",
   "name": "python3"
  },
  "language_info": {
   "codemirror_mode": {
    "name": "ipython",
    "version": 3
   },
   "file_extension": ".py",
   "mimetype": "text/x-python",
   "name": "python",
   "nbconvert_exporter": "python",
   "pygments_lexer": "ipython3",
   "version": "3.11.9"
  }
 },
 "nbformat": 4,
 "nbformat_minor": 2
}
