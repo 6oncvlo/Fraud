{
 "cells": [
  {
   "cell_type": "code",
   "execution_count": 1,
   "id": "d689ce8c",
   "metadata": {},
   "outputs": [],
   "source": [
    "import pandas as pd\n",
    "from sklearn.model_selection import train_test_split\n",
    "from xgboost import XGBClassifier\n",
    "from sklearn.tree import DecisionTreeClassifier\n",
    "import joblib"
   ]
  },
  {
   "cell_type": "code",
   "execution_count": 3,
   "id": "921d4834",
   "metadata": {},
   "outputs": [],
   "source": [
    "# load and transform data\n",
    "df = pd.read_csv('../../creditcard_2023.csv')\n",
    "df = df[['V4', 'V14', 'Class']].rename(columns={'Class': 'label'})"
   ]
  },
  {
   "cell_type": "code",
   "execution_count": 4,
   "id": "b041f842",
   "metadata": {},
   "outputs": [],
   "source": [
    "# split dataset into train and test sets\n",
    "X_train, X_test, y_train, y_test = train_test_split(\n",
    "    df.drop(columns=['label']), df['label']\n",
    "    , test_size=0.1\n",
    "    , random_state=42\n",
    "    , shuffle=True\n",
    "    , stratify=df['label']\n",
    "    )"
   ]
  },
  {
   "cell_type": "code",
   "execution_count": null,
   "id": "42eaf9a3",
   "metadata": {},
   "outputs": [
    {
     "data": {
      "text/plain": [
       "['artifacts/test_score.joblib']"
      ]
     },
     "execution_count": 27,
     "metadata": {},
     "output_type": "execute_result"
    }
   ],
   "source": [
    "# train model and evaluate it\n",
    "clf = XGBClassifier(max_depth=20, random_state=42)\n",
    "clf.fit(X_train, y_train)\n",
    "\n",
    "test_score = clf.score(X_test, y_test)"
   ]
  },
  {
   "cell_type": "code",
   "execution_count": null,
   "id": "32bdd0f5",
   "metadata": {},
   "outputs": [],
   "source": [
    "# save model and metric\n",
    "joblib.dump(clf, 'artifacts/model.joblib')\n",
    "joblib.dump(test_score, 'artifacts/test_score.joblib')"
   ]
  },
  {
   "cell_type": "code",
   "execution_count": 5,
   "id": "2cdfe62b",
   "metadata": {},
   "outputs": [
    {
     "data": {
      "text/plain": [
       "[1, 0]"
      ]
     },
     "execution_count": 5,
     "metadata": {},
     "output_type": "execute_result"
    }
   ],
   "source": [
    "# load and predict\n",
    "model = joblib.load('artifacts/model.joblib')\n",
    "model.predict([[5.1, -3.5], [2,3]]).tolist()"
   ]
  }
 ],
 "metadata": {
  "kernelspec": {
   "display_name": ".venv",
   "language": "python",
   "name": "python3"
  },
  "language_info": {
   "codemirror_mode": {
    "name": "ipython",
    "version": 3
   },
   "file_extension": ".py",
   "mimetype": "text/x-python",
   "name": "python",
   "nbconvert_exporter": "python",
   "pygments_lexer": "ipython3",
   "version": "3.11.9"
  }
 },
 "nbformat": 4,
 "nbformat_minor": 5
}
